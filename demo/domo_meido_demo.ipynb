{
 "cells": [
  {
   "cell_type": "code",
   "execution_count": 1,
   "metadata": {},
   "outputs": [],
   "source": [
    "import os, sys\n",
    "sys.path.append(\"../\")  # Direct my system to look for modules in \"../\" directory\n",
    "\n",
    "import domo_meido"
   ]
  },
  {
   "cell_type": "code",
   "execution_count": 2,
   "metadata": {},
   "outputs": [
    {
     "data": {
      "text/plain": [
       "True"
      ]
     },
     "execution_count": 2,
     "metadata": {},
     "output_type": "execute_result"
    }
   ],
   "source": [
    "my_domo_env_path = \"./domo.env\" # Environment Variables must be named : CLIENT_ID, CLIENT_SECRET\n",
    "\n",
    "os.path.exists(my_domo_env_path) # Does the file exist?"
   ]
  },
  {
   "cell_type": "code",
   "execution_count": 3,
   "metadata": {},
   "outputs": [
    {
     "data": {
      "text/plain": [
       "True"
      ]
     },
     "execution_count": 3,
     "metadata": {},
     "output_type": "execute_result"
    }
   ],
   "source": [
    "my_domo_utility_path = \"./query_def.json\"\n",
    "os.path.exists(my_domo_utility_path)"
   ]
  },
  {
   "cell_type": "code",
   "execution_count": 15,
   "metadata": {},
   "outputs": [],
   "source": [
    "# NOTE: You cannot use utitlity_file AND table_def, ONLY 1 or the other.\n",
    "\n",
    "domo_connection = domo_meido.DomoMeido(\n",
    "    env_file = my_domo_env_path,\n",
    "    utility_file = my_domo_utility_path, # Path to JSON that specifies the query to use\n",
    "    # table_def = [{\n",
    "    #     \"name\":\"airports_us\",   # the name of the variable to be generated\n",
    "    #     \"id\":\"802c21ff-3dec-4a3f-ac5b-62aae19b4261\",               # ID of the table in Domo URL\n",
    "    #     \"columns\":[\"ident\",\"latitude_deg\",\"longitude_deg\",\"type\"], # Columns to select from the table\n",
    "    # }]\n",
    ")\n",
    "\n",
    "# table_def can be called using a literal string of json (i.e: \"\"\"[{\"this\":\"someObj\"}]\"\"\"), a list of dictionaries, or a single dictionary."
   ]
  },
  {
   "cell_type": "code",
   "execution_count": 16,
   "metadata": {},
   "outputs": [
    {
     "data": {
      "text/plain": [
       "['airports_us', 'gale_branches']"
      ]
     },
     "execution_count": 16,
     "metadata": {},
     "output_type": "execute_result"
    }
   ],
   "source": [
    "tables = domo_connection.load()\n",
    "tables.keys()   # list the tables we've collected"
   ]
  },
  {
   "cell_type": "code",
   "execution_count": 19,
   "metadata": {},
   "outputs": [
    {
     "data": {
      "text/html": [
       "<div>\n",
       "<style scoped>\n",
       "    .dataframe tbody tr th:only-of-type {\n",
       "        vertical-align: middle;\n",
       "    }\n",
       "\n",
       "    .dataframe tbody tr th {\n",
       "        vertical-align: top;\n",
       "    }\n",
       "\n",
       "    .dataframe thead th {\n",
       "        text-align: right;\n",
       "    }\n",
       "</style>\n",
       "<table border=\"1\" class=\"dataframe\">\n",
       "  <thead>\n",
       "    <tr style=\"text-align: right;\">\n",
       "      <th></th>\n",
       "      <th>id</th>\n",
       "      <th>companyid</th>\n",
       "      <th>coBranchID</th>\n",
       "      <th>companyName</th>\n",
       "      <th>branchName</th>\n",
       "      <th>branch_status</th>\n",
       "      <th>branch_Pretty</th>\n",
       "    </tr>\n",
       "  </thead>\n",
       "  <tbody>\n",
       "    <tr>\n",
       "      <th>0</th>\n",
       "      <td>138</td>\n",
       "      <td>GHS</td>\n",
       "      <td>GHS-102</td>\n",
       "      <td>Gale Healthcare Solutions LLC</td>\n",
       "      <td>Iowa</td>\n",
       "      <td>1</td>\n",
       "      <td>GHS-102 | Iowa</td>\n",
       "    </tr>\n",
       "    <tr>\n",
       "      <th>1</th>\n",
       "      <td>137</td>\n",
       "      <td>GHS</td>\n",
       "      <td>GHS-100</td>\n",
       "      <td>Gale Healthcare Solutions LLC</td>\n",
       "      <td>South Dakota</td>\n",
       "      <td>1</td>\n",
       "      <td>GHS-100 | South Dakota</td>\n",
       "    </tr>\n",
       "    <tr>\n",
       "      <th>2</th>\n",
       "      <td>135</td>\n",
       "      <td>Test</td>\n",
       "      <td>Test-201</td>\n",
       "      <td>Admin Health (Licensing Test)</td>\n",
       "      <td>Admin Health (Licensing Test)</td>\n",
       "      <td>1</td>\n",
       "      <td>Test-201 | Admin Health (Licensing Test)</td>\n",
       "    </tr>\n",
       "    <tr>\n",
       "      <th>3</th>\n",
       "      <td>134</td>\n",
       "      <td>DTB</td>\n",
       "      <td>DTB-14</td>\n",
       "      <td>Gale Healthcare Solutions LLC</td>\n",
       "      <td>LTAC - Travel</td>\n",
       "      <td>1</td>\n",
       "      <td>DTB-14 | LTAC - Travel</td>\n",
       "    </tr>\n",
       "    <tr>\n",
       "      <th>4</th>\n",
       "      <td>133</td>\n",
       "      <td>GHS</td>\n",
       "      <td>GHS-99</td>\n",
       "      <td>Gale Healthcare Solutions LLC</td>\n",
       "      <td>LTAC - Travel</td>\n",
       "      <td>1</td>\n",
       "      <td>GHS-99 | LTAC - Travel</td>\n",
       "    </tr>\n",
       "  </tbody>\n",
       "</table>\n",
       "</div>"
      ],
      "text/plain": [
       "    id companyid coBranchID                    companyName  \\\n",
       "0  138       GHS    GHS-102  Gale Healthcare Solutions LLC   \n",
       "1  137       GHS    GHS-100  Gale Healthcare Solutions LLC   \n",
       "2  135      Test   Test-201  Admin Health (Licensing Test)   \n",
       "3  134       DTB     DTB-14  Gale Healthcare Solutions LLC   \n",
       "4  133       GHS     GHS-99  Gale Healthcare Solutions LLC   \n",
       "\n",
       "                      branchName  branch_status  \\\n",
       "0                           Iowa              1   \n",
       "1                   South Dakota              1   \n",
       "2  Admin Health (Licensing Test)              1   \n",
       "3                  LTAC - Travel              1   \n",
       "4                  LTAC - Travel              1   \n",
       "\n",
       "                              branch_Pretty  \n",
       "0                            GHS-102 | Iowa  \n",
       "1                    GHS-100 | South Dakota  \n",
       "2  Test-201 | Admin Health (Licensing Test)  \n",
       "3                    DTB-14 | LTAC - Travel  \n",
       "4                    GHS-99 | LTAC - Travel  "
      ]
     },
     "execution_count": 19,
     "metadata": {},
     "output_type": "execute_result"
    }
   ],
   "source": [
    "tables.gale_branches.dataframe.head()"
   ]
  },
  {
   "cell_type": "code",
   "execution_count": 20,
   "metadata": {},
   "outputs": [
    {
     "data": {
      "text/plain": [
       "0      KLAX\n",
       "1      KORD\n",
       "2      KJFK\n",
       "3      KATL\n",
       "4      KSFO\n",
       "       ... \n",
       "165    KSSC\n",
       "166    KVBG\n",
       "167    KBAB\n",
       "168    KGSB\n",
       "169    KSZL\n",
       "Name: ident, Length: 170, dtype: object"
      ]
     },
     "execution_count": 20,
     "metadata": {},
     "output_type": "execute_result"
    }
   ],
   "source": [
    "airports_us = tables.airports_us.dataframe\n",
    "\n",
    "ident_as_series = airports_us['ident'] # select the column 'ident' as a series\n",
    "ident_as_df = airports_us[['ident']]  # select specific columns and keep the result as a dataframe\n",
    "\n",
    "ident_as_series"
   ]
  }
 ],
 "metadata": {
  "kernelspec": {
   "display_name": "py311",
   "language": "python",
   "name": "python3"
  },
  "language_info": {
   "codemirror_mode": {
    "name": "ipython",
    "version": 3
   },
   "file_extension": ".py",
   "mimetype": "text/x-python",
   "name": "python",
   "nbconvert_exporter": "python",
   "pygments_lexer": "ipython3",
   "version": "3.11.0"
  },
  "orig_nbformat": 4,
  "vscode": {
   "interpreter": {
    "hash": "c57b7d55d405a9b85b40bb076a360058c8af6a46a7e88e86833727a38150c9fa"
   }
  }
 },
 "nbformat": 4,
 "nbformat_minor": 2
}
