{
 "cells": [
  {
   "cell_type": "code",
   "execution_count": 1,
   "metadata": {},
   "outputs": [],
   "source": [
    "import os, sys\n",
    "sys.path.append(\"../\")  # Direct my system to look for modules in \"../\" directory\n",
    "\n",
    "import domo_meido"
   ]
  },
  {
   "cell_type": "code",
   "execution_count": 2,
   "metadata": {},
   "outputs": [
    {
     "data": {
      "text/plain": [
       "True"
      ]
     },
     "execution_count": 2,
     "metadata": {},
     "output_type": "execute_result"
    }
   ],
   "source": [
    "my_domo_env_path = \"./domo.env\" # Environment Variables must be named : CLIENT_ID, CLIENT_SECRET\n",
    "\n",
    "os.path.exists(my_domo_env_path) # Does the file exist?"
   ]
  },
  {
   "cell_type": "code",
   "execution_count": 3,
   "metadata": {},
   "outputs": [
    {
     "data": {
      "text/plain": [
       "True"
      ]
     },
     "execution_count": 3,
     "metadata": {},
     "output_type": "execute_result"
    }
   ],
   "source": [
    "my_domo_utility_path = \"./query_def.json\"\n",
    "os.path.exists(my_domo_utility_path)"
   ]
  },
  {
   "cell_type": "code",
   "execution_count": 35,
   "metadata": {},
   "outputs": [],
   "source": [
    "# NOTE: You cannot use utitlity_file AND table_def, ONLY 1 or the other.\n",
    "\n",
    "domo_connection = domo_meido.DomoMeido(\n",
    "    env_file = my_domo_env_path,\n",
    "    #utility_file = my_domo_utility_path, # Path to JSON that specifies the query to use\n",
    "    table_def = [{\n",
    "        \"name\":\"airports_us\",   # the name of the variable to be generated\n",
    "        \"id\":\"802c21ff-3dec-4a3f-ac5b-62aae19b4261\",               # ID of the table in Domo URL\n",
    "        #\"columns\":[\"ident\",\"latitude_deg\",\"longitude_deg\",\"type\"], # Columns to select from the table\n",
    "        # In leiu of specifying the columns, you can specify a query like this:\n",
    "        # (Be sure the table name matches the one specified earlier in the table_def)\n",
    "        \"query\": \"select ident,latitude_deg,longitude_deg,type from airports_us limit 10\", # the query to be executed \n",
    "    }]\n",
    ")\n",
    "\n",
    "# table_def can be called using a literal string of json (i.e: \"\"\"[{\"this\":\"someObj\"}]\"\"\"), a list of dictionaries, or a single dictionary."
   ]
  },
  {
   "cell_type": "code",
   "execution_count": 36,
   "metadata": {},
   "outputs": [
    {
     "data": {
      "text/plain": [
       "['airports_us']"
      ]
     },
     "execution_count": 36,
     "metadata": {},
     "output_type": "execute_result"
    }
   ],
   "source": [
    "tables = domo_connection.load()\n",
    "tables.keys()   # list the tables we've collected"
   ]
  },
  {
   "cell_type": "code",
   "execution_count": 37,
   "metadata": {},
   "outputs": [
    {
     "data": {
      "text/html": [
       "<div>\n",
       "<style scoped>\n",
       "    .dataframe tbody tr th:only-of-type {\n",
       "        vertical-align: middle;\n",
       "    }\n",
       "\n",
       "    .dataframe tbody tr th {\n",
       "        vertical-align: top;\n",
       "    }\n",
       "\n",
       "    .dataframe thead th {\n",
       "        text-align: right;\n",
       "    }\n",
       "</style>\n",
       "<table border=\"1\" class=\"dataframe\">\n",
       "  <thead>\n",
       "    <tr style=\"text-align: right;\">\n",
       "      <th></th>\n",
       "      <th>ident</th>\n",
       "      <th>latitude_deg</th>\n",
       "      <th>longitude_deg</th>\n",
       "      <th>type</th>\n",
       "    </tr>\n",
       "  </thead>\n",
       "  <tbody>\n",
       "    <tr>\n",
       "      <th>0</th>\n",
       "      <td>KLAX</td>\n",
       "      <td>33.942501</td>\n",
       "      <td>-118.407997</td>\n",
       "      <td>large_airport</td>\n",
       "    </tr>\n",
       "    <tr>\n",
       "      <th>1</th>\n",
       "      <td>KORD</td>\n",
       "      <td>41.978600</td>\n",
       "      <td>-87.904800</td>\n",
       "      <td>large_airport</td>\n",
       "    </tr>\n",
       "    <tr>\n",
       "      <th>2</th>\n",
       "      <td>KJFK</td>\n",
       "      <td>40.639801</td>\n",
       "      <td>-73.778900</td>\n",
       "      <td>large_airport</td>\n",
       "    </tr>\n",
       "    <tr>\n",
       "      <th>3</th>\n",
       "      <td>KATL</td>\n",
       "      <td>33.636700</td>\n",
       "      <td>-84.428101</td>\n",
       "      <td>large_airport</td>\n",
       "    </tr>\n",
       "    <tr>\n",
       "      <th>4</th>\n",
       "      <td>KSFO</td>\n",
       "      <td>37.618999</td>\n",
       "      <td>-122.375000</td>\n",
       "      <td>large_airport</td>\n",
       "    </tr>\n",
       "    <tr>\n",
       "      <th>...</th>\n",
       "      <td>...</td>\n",
       "      <td>...</td>\n",
       "      <td>...</td>\n",
       "      <td>...</td>\n",
       "    </tr>\n",
       "    <tr>\n",
       "      <th>165</th>\n",
       "      <td>KSSC</td>\n",
       "      <td>33.972698</td>\n",
       "      <td>-80.470596</td>\n",
       "      <td>large_airport</td>\n",
       "    </tr>\n",
       "    <tr>\n",
       "      <th>166</th>\n",
       "      <td>KVBG</td>\n",
       "      <td>34.737301</td>\n",
       "      <td>-120.584000</td>\n",
       "      <td>large_airport</td>\n",
       "    </tr>\n",
       "    <tr>\n",
       "      <th>167</th>\n",
       "      <td>KBAB</td>\n",
       "      <td>39.136101</td>\n",
       "      <td>-121.436996</td>\n",
       "      <td>large_airport</td>\n",
       "    </tr>\n",
       "    <tr>\n",
       "      <th>168</th>\n",
       "      <td>KGSB</td>\n",
       "      <td>35.339401</td>\n",
       "      <td>-77.960602</td>\n",
       "      <td>large_airport</td>\n",
       "    </tr>\n",
       "    <tr>\n",
       "      <th>169</th>\n",
       "      <td>KSZL</td>\n",
       "      <td>38.730301</td>\n",
       "      <td>-93.547897</td>\n",
       "      <td>large_airport</td>\n",
       "    </tr>\n",
       "  </tbody>\n",
       "</table>\n",
       "<p>170 rows × 4 columns</p>\n",
       "</div>"
      ],
      "text/plain": [
       "    ident  latitude_deg  longitude_deg           type\n",
       "0    KLAX     33.942501    -118.407997  large_airport\n",
       "1    KORD     41.978600     -87.904800  large_airport\n",
       "2    KJFK     40.639801     -73.778900  large_airport\n",
       "3    KATL     33.636700     -84.428101  large_airport\n",
       "4    KSFO     37.618999    -122.375000  large_airport\n",
       "..    ...           ...            ...            ...\n",
       "165  KSSC     33.972698     -80.470596  large_airport\n",
       "166  KVBG     34.737301    -120.584000  large_airport\n",
       "167  KBAB     39.136101    -121.436996  large_airport\n",
       "168  KGSB     35.339401     -77.960602  large_airport\n",
       "169  KSZL     38.730301     -93.547897  large_airport\n",
       "\n",
       "[170 rows x 4 columns]"
      ]
     },
     "execution_count": 37,
     "metadata": {},
     "output_type": "execute_result"
    }
   ],
   "source": [
    "tables.airports_us.dataframe"
   ]
  },
  {
   "cell_type": "code",
   "execution_count": null,
   "metadata": {},
   "outputs": [
    {
     "data": {
      "text/plain": [
       "0      KLAX\n",
       "1      KORD\n",
       "2      KJFK\n",
       "3      KATL\n",
       "4      KSFO\n",
       "       ... \n",
       "165    KSSC\n",
       "166    KVBG\n",
       "167    KBAB\n",
       "168    KGSB\n",
       "169    KSZL\n",
       "Name: ident, Length: 170, dtype: object"
      ]
     },
     "execution_count": 7,
     "metadata": {},
     "output_type": "execute_result"
    }
   ],
   "source": [
    "airports_us = tables.airports_us.dataframe\n",
    "\n",
    "ident_as_series = airports_us['ident'] # select the column 'ident' as a series\n",
    "ident_as_df = airports_us[['ident']]  # select specific columns and keep the result as a dataframe\n",
    "\n",
    "ident_as_series"
   ]
  }
 ],
 "metadata": {
  "kernelspec": {
   "display_name": "py311",
   "language": "python",
   "name": "python3"
  },
  "language_info": {
   "codemirror_mode": {
    "name": "ipython",
    "version": 3
   },
   "file_extension": ".py",
   "mimetype": "text/x-python",
   "name": "python",
   "nbconvert_exporter": "python",
   "pygments_lexer": "ipython3",
   "version": "3.11.0"
  },
  "orig_nbformat": 4,
  "vscode": {
   "interpreter": {
    "hash": "c57b7d55d405a9b85b40bb076a360058c8af6a46a7e88e86833727a38150c9fa"
   }
  }
 },
 "nbformat": 4,
 "nbformat_minor": 2
}
