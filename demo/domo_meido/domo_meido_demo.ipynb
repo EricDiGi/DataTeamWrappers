{
 "cells": [
  {
   "cell_type": "code",
   "execution_count": 1,
   "metadata": {},
   "outputs": [],
   "source": [
    "import os, sys\n",
    "sys.path.append(\"../../\")  # Direct my system to look for modules in \"../\" directory\n",
    "\n",
    "import domo_meido"
   ]
  },
  {
   "cell_type": "code",
   "execution_count": null,
   "metadata": {},
   "outputs": [],
   "source": [
    "my_domo_env_path = \"./domo.env\" # Environment Variables must be named : CLIENT_ID, CLIENT_SECRET\n",
    "\n",
    "os.path.exists(my_domo_env_path) # Does the file exist?"
   ]
  },
  {
   "cell_type": "code",
   "execution_count": null,
   "metadata": {},
   "outputs": [],
   "source": [
    "my_domo_utility_path = \"./query_def.json\"\n",
    "os.path.exists(my_domo_utility_path)"
   ]
  },
  {
   "cell_type": "code",
   "execution_count": 20,
   "metadata": {},
   "outputs": [],
   "source": [
    "# NOTE: You cannot use utitlity_file AND table_def, ONLY 1 or the other.\n",
    "\n",
    "domo_connection = domo_meido.DomoMeido(\n",
    "    env_file = my_domo_env_path,\n",
    "    #utility_file = my_domo_utility_path, # Path to JSON that specifies the query to use\n",
    "    table_def = [{\n",
    "        \"name\":\"airports_us\",   # the name of the variable to be generated\n",
    "        \"id\":\"802c21ff-3dec-4a3f-ac5b-62aae19b4261\",               # ID of the table in Domo URL\n",
    "        \"columns\":[\"ident\",\"latitude_deg\",\"longitude_deg\",\"type\"], # Columns to select from the table\n",
    "        # In leiu of specifying the columns, you can specify a query like this:\n",
    "        # (Be sure the table name matches the one specified earlier in the table_def)\n",
    "        # \"query\": \"\"\"SELECT ident,latitude_deg,longitude_deg,type FROM airports_us where ident= 'KLAX' limit 10\"\"\", # the query to be executed \n",
    "    }]\n",
    ")\n",
    "\n",
    "# table_def can be called using a literal string of json (i.e: \"\"\"[{\"this\":\"someObj\"}]\"\"\"), a list of dictionaries, or a single dictionary."
   ]
  },
  {
   "cell_type": "code",
   "execution_count": null,
   "metadata": {},
   "outputs": [],
   "source": [
    "tables = domo_connection.load()\n",
    "tables.keys()   # list the tables we've collected"
   ]
  },
  {
   "cell_type": "code",
   "execution_count": null,
   "metadata": {},
   "outputs": [],
   "source": [
    "tables.airports_us.dataframe"
   ]
  },
  {
   "cell_type": "code",
   "execution_count": null,
   "metadata": {},
   "outputs": [],
   "source": [
    "airports_us = tables.airports_us.dataframe\n",
    "\n",
    "ident_as_series = airports_us['ident'] # select the column 'ident' as a series\n",
    "ident_as_df = airports_us[['ident']]  # select specific columns and keep the result as a dataframe\n",
    "\n",
    "ident_as_series"
   ]
  }
 ],
 "metadata": {
  "kernelspec": {
   "display_name": "py311",
   "language": "python",
   "name": "python3"
  },
  "language_info": {
   "codemirror_mode": {
    "name": "ipython",
    "version": 3
   },
   "file_extension": ".py",
   "mimetype": "text/x-python",
   "name": "python",
   "nbconvert_exporter": "python",
   "pygments_lexer": "ipython3",
   "version": "3.11.0"
  },
  "orig_nbformat": 4,
  "vscode": {
   "interpreter": {
    "hash": "c57b7d55d405a9b85b40bb076a360058c8af6a46a7e88e86833727a38150c9fa"
   }
  }
 },
 "nbformat": 4,
 "nbformat_minor": 2
}
