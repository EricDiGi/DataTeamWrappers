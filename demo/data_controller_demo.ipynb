{
 "cells": [
  {
   "cell_type": "code",
   "execution_count": 1,
   "metadata": {},
   "outputs": [],
   "source": [
    "# Import the data_controller module from its folder\n",
    "import sys\n",
    "sys.path.append(\"../\")\n",
    "from data_controller import Collection, Object, field, condition"
   ]
  },
  {
   "cell_type": "code",
   "execution_count": 2,
   "metadata": {},
   "outputs": [],
   "source": [
    "# Import Faker to create fake data\n",
    "from faker import Faker\n",
    "fake = Faker()\n",
    "\n",
    "# Generate 1 fake user\n",
    "def generate_one_user():\n",
    "    return {\n",
    "        \"email\": fake.email(),\n",
    "        \"first_name\": fake.first_name(),\n",
    "        \"last_name\": fake.last_name(),\n",
    "        \"phone_number\": fake.phone_number(),\n",
    "        \"age\": fake.pyint(min_value=8, max_value=100)\n",
    "    }\n",
    "\n",
    "# Generate a list of fake users with N users\n",
    "def generate_many_users(n):\n",
    "    users = []\n",
    "    for i in range(n):\n",
    "        users.append(generate_one_user())\n",
    "    return users"
   ]
  },
  {
   "cell_type": "code",
   "execution_count": 3,
   "metadata": {},
   "outputs": [
    {
     "name": "stdout",
     "output_type": "stream",
     "text": [
      "Columns :  ['phone_number', 'first_name', 'last_name', 'email', 'age']\n"
     ]
    },
    {
     "data": {
      "text/html": [
       "<html><table><thead><tr><th>ROW</th><th>phone_number</th><th>first_name</th><th>last_name</th><th>email</th><th>age</th></tr></thead><tr><td>0</td><td class=light>+1-880-526-8328x872</td><td class=dark>Paige</td><td class=light>Schmidt</td><td class=dark>edward66@example.com</td><td class=light>94</td></tr><tr><td>1</td><td class=light>+1-786-361-2231x4720</td><td class=dark>Michael</td><td class=light>Hines</td><td class=dark>carrdaniel@example.com</td><td class=light>62</td></tr><tr><td>2</td><td class=light>(514)797-6030x470</td><td class=dark>Jessica</td><td class=light>Sullivan</td><td class=dark>mccoydebra@example.com</td><td class=light>14</td></tr><tr><td>3</td><td class=light>539.545.4431x3524</td><td class=dark>Amanda</td><td class=light>Branch</td><td class=dark>davisdiana@example.net</td><td class=light>85</td></tr><tr><td>4</td><td class=light>001-385-606-2742x984</td><td class=dark>Renee</td><td class=light>Johnson</td><td class=dark>aschwartz@example.org</td><td class=light>40</td></tr><tr><td>5</td><td class=light>001-257-202-2040x9818</td><td class=dark>Jordan</td><td class=light>Carpenter</td><td class=dark>shellyharvey@example.com</td><td class=light>44</td></tr><tr><td>6</td><td class=light>243.831.6259x79010</td><td class=dark>Christine</td><td class=light>Ramirez</td><td class=dark>sjohnson@example.net</td><td class=light>75</td></tr><tr><td>7</td><td class=light>3242533367</td><td class=dark>Charles</td><td class=light>Walsh</td><td class=dark>matthewcaldwell@example.com</td><td class=light>69</td></tr></table></html>"
      ],
      "text/plain": [
       "[{'email': 'edward66@example.com', 'first_name': 'Paige', 'last_name': 'Schmidt', 'phone_number': '+1-880-526-8328x872', 'age': 94}, {'email': 'carrdaniel@example.com', 'first_name': 'Michael', 'last_name': 'Hines', 'phone_number': '+1-786-361-2231x4720', 'age': 62}, {'email': 'mccoydebra@example.com', 'first_name': 'Jessica', 'last_name': 'Sullivan', 'phone_number': '(514)797-6030x470', 'age': 14}, {'email': 'davisdiana@example.net', 'first_name': 'Amanda', 'last_name': 'Branch', 'phone_number': '539.545.4431x3524', 'age': 85}, {'email': 'aschwartz@example.org', 'first_name': 'Renee', 'last_name': 'Johnson', 'phone_number': '001-385-606-2742x984', 'age': 40}, {'email': 'shellyharvey@example.com', 'first_name': 'Jordan', 'last_name': 'Carpenter', 'phone_number': '001-257-202-2040x9818', 'age': 44}, {'email': 'sjohnson@example.net', 'first_name': 'Christine', 'last_name': 'Ramirez', 'phone_number': '243.831.6259x79010', 'age': 75}, {'email': 'matthewcaldwell@example.com', 'first_name': 'Charles', 'last_name': 'Walsh', 'phone_number': '3242533367', 'age': 69}]"
      ]
     },
     "execution_count": 3,
     "metadata": {},
     "output_type": "execute_result"
    }
   ],
   "source": [
    "user_collection = Collection(generate_many_users(1000))\n",
    "print(\"Columns : \",user_collection.columns)\n",
    "user_collection[12:20] #Slice a collection"
   ]
  },
  {
   "cell_type": "code",
   "execution_count": 4,
   "metadata": {},
   "outputs": [
    {
     "name": "stdout",
     "output_type": "stream",
     "text": [
      "SELECT ROW 5:\n"
     ]
    },
    {
     "data": {
      "text/html": [
       "<html>\n",
       "        <script src=\"https://cdn.jsdelivr.net/gh/google/code-prettify@master/loader/run_prettify.js?lang=json&amp;skin=sons-of-obsidian\"></script>\n",
       "            <pre class=\"prettyprint linenums\">{<br/>  \"email\": \"vchurch@example.org\",<br/>  \"first_name\": \"Ronald\",<br/>  \"last_name\": \"Sheppard\",<br/>  \"phone_number\": \"+1-677-901-6187x3815\",<br/>  \"age\": 32<br/>}</pre>\n",
       "        </html>"
      ],
      "text/plain": [
       "{'email': 'vchurch@example.org', 'first_name': 'Ronald', 'last_name': 'Sheppard', 'phone_number': '+1-677-901-6187x3815', 'age': 32}"
      ]
     },
     "metadata": {},
     "output_type": "display_data"
    },
    {
     "name": "stdout",
     "output_type": "stream",
     "text": [
      "SELECT FIELD \"last_name\" FROM ROW 5:\n"
     ]
    },
    {
     "data": {
      "text/html": [
       "<html>\n",
       "        <script src=\"https://cdn.jsdelivr.net/gh/google/code-prettify@master/loader/run_prettify.js?lang=json&amp;skin=sons-of-obsidian\"></script>\n",
       "            <pre class=\"prettyprint linenums\">{<br/>  \"last_name\": \"Sheppard\"<br/>}</pre>\n",
       "        </html>"
      ],
      "text/plain": [
       "{'last_name': 'Sheppard'}"
      ]
     },
     "metadata": {},
     "output_type": "display_data"
    },
    {
     "name": "stdout",
     "output_type": "stream",
     "text": [
      "\n",
      "Trim fields and slice the dataset"
     ]
    },
    {
     "data": {
      "text/html": [
       "<html><table><thead><tr><th>ROW</th><th>last_name</th><th>first_name</th></tr></thead><tr><td>0</td><td class=light>Leach</td><td class=dark>Hailey</td></tr><tr><td>1</td><td class=light>Jones</td><td class=dark>Alejandra</td></tr><tr><td>2</td><td class=light>Miranda</td><td class=dark>Michele</td></tr><tr><td>3</td><td class=light>Phillips</td><td class=dark>Suzanne</td></tr><tr><td>4</td><td class=light>Russell</td><td class=dark>Logan</td></tr></table></html>"
      ],
      "text/plain": [
       "[{'first_name': 'Hailey', 'last_name': 'Leach'}, {'first_name': 'Alejandra', 'last_name': 'Jones'}, {'first_name': 'Michele', 'last_name': 'Miranda'}, {'first_name': 'Suzanne', 'last_name': 'Phillips'}, {'first_name': 'Logan', 'last_name': 'Russell'}]"
      ]
     },
     "metadata": {},
     "output_type": "display_data"
    }
   ],
   "source": [
    "from IPython.display import display\n",
    "print(\"SELECT ROW 5:\")\n",
    "display(user_collection[5]) # Select row from the collection\n",
    "\n",
    "print(\"SELECT FIELD \\\"last_name\\\" FROM ROW 5:\")\n",
    "display(user_collection[5][['last_name']]) # Get last_name from the selected row\n",
    "\n",
    "print(\"\\nTrim fields and slice the dataset\", end=\"\")\n",
    "display(user_collection[0:5][['first_name', 'last_name']]) # Select specific fields from rows 0 through 5"
   ]
  },
  {
   "cell_type": "code",
   "execution_count": 5,
   "metadata": {},
   "outputs": [
    {
     "data": {
      "text/html": [
       "<html><table><thead><tr><th>ROW</th><th>phone_number</th><th>first_name</th><th>last_name</th><th>email</th><th>age</th></tr></thead><tr><td>0</td><td class=light>1270679712</td><td class=dark>Maria</td><td class=light>Scott</td><td class=dark>aclark@example.net</td><td class=light>97</td></tr><tr><td>1</td><td class=light>(609)863-1820x967</td><td class=dark>Matthew</td><td class=light>Cline</td><td class=dark>reyesalicia@example.com</td><td class=light>94</td></tr><tr><td>2</td><td class=light>624-218-0110x23407</td><td class=dark>Marvin</td><td class=light>Hill</td><td class=dark>longmary@example.net</td><td class=light>92</td></tr><tr><td>3</td><td class=light>579-701-1916</td><td class=dark>Michael</td><td class=light>Scott</td><td class=dark>amandacohen@example.com</td><td class=light>83</td></tr><tr><td>4</td><td class=light>144.368.3170</td><td class=dark>Megan</td><td class=light>Castillo</td><td class=dark>kjenkins@example.org</td><td class=light>85</td></tr></table></html>"
      ],
      "text/plain": [
       "[{'email': 'aclark@example.net', 'first_name': 'Maria', 'last_name': 'Scott', 'phone_number': '1270679712', 'age': 97}, {'email': 'reyesalicia@example.com', 'first_name': 'Matthew', 'last_name': 'Cline', 'phone_number': '(609)863-1820x967', 'age': 94}, {'email': 'longmary@example.net', 'first_name': 'Marvin', 'last_name': 'Hill', 'phone_number': '624-218-0110x23407', 'age': 92}, {'email': 'amandacohen@example.com', 'first_name': 'Michael', 'last_name': 'Scott', 'phone_number': '579-701-1916', 'age': 83}, {'email': 'kjenkins@example.org', 'first_name': 'Megan', 'last_name': 'Castillo', 'phone_number': '144.368.3170', 'age': 85}]"
      ]
     },
     "execution_count": 5,
     "metadata": {},
     "output_type": "execute_result"
    }
   ],
   "source": [
    "import re\n",
    "# Find first 5 rows where Age > 40 and first name starts with 'M'\n",
    "user_collection.where(\n",
    "    field('age') > 80,  # easy way to state simple conditionals\n",
    "    # For more complex conditionals use...\n",
    "    condition('first_name','regex_match',(r'^m.*',re.IGNORECASE))   \n",
    ")[0:5]"
   ]
  },
  {
   "cell_type": "code",
   "execution_count": 6,
   "metadata": {},
   "outputs": [
    {
     "data": {
      "text/html": [
       "<html><table><thead><tr><th>ROW</th><th>age</th><th>first_name</th></tr></thead><tr><td>0</td><td class=light>48</td><td class=dark>Michele</td></tr><tr><td>1</td><td class=light>27</td><td class=dark>Hailey</td></tr><tr><td>2</td><td class=light>91</td><td class=dark>Suzanne</td></tr><tr><td>3</td><td class=light>58</td><td class=dark>Alejandra</td></tr><tr><td>4</td><td class=light>18</td><td class=dark>Cynthia</td></tr><tr><td>5</td><td class=light>10</td><td class=dark>Nicole</td></tr><tr><td>6</td><td class=light>32</td><td class=dark>Ronald</td></tr><tr><td>7</td><td class=light>32</td><td class=dark>Raymond</td></tr><tr><td>8</td><td class=light>44</td><td class=dark>Logan</td></tr><tr><td>9</td><td class=light>57</td><td class=dark>Melinda</td></tr></table></html>"
      ],
      "text/plain": [
       "[{'age': 48, 'first_name': 'Michele'}, {'age': 27, 'first_name': 'Hailey'}, {'age': 91, 'first_name': 'Suzanne'}, {'age': 58, 'first_name': 'Alejandra'}, {'age': 18, 'first_name': 'Cynthia'}, {'age': 10, 'first_name': 'Nicole'}, {'age': 32, 'first_name': 'Ronald'}, {'age': 32, 'first_name': 'Raymond'}, {'age': 44, 'first_name': 'Logan'}, {'age': 57, 'first_name': 'Melinda'}]"
      ]
     },
     "execution_count": 6,
     "metadata": {},
     "output_type": "execute_result"
    }
   ],
   "source": [
    "# Getting Unique Values\n",
    "temp = user_collection[0:10] + [user_collection[0]] # Concatenate object to Collection or collection to collection\n",
    "unique = temp.unique('age','first_name') # Length should be <= 10\n",
    "unique"
   ]
  },
  {
   "cell_type": "code",
   "execution_count": 7,
   "metadata": {},
   "outputs": [
    {
     "data": {
      "text/html": [
       "<html>\n",
       "        <script src=\"https://cdn.jsdelivr.net/gh/google/code-prettify@master/loader/run_prettify.js?lang=json&amp;skin=sons-of-obsidian\"></script>\n",
       "            <pre class=\"prettyprint linenums\">{<br/>  \"age\": [<br/>    48,<br/>    27,<br/>    91,<br/>    58,<br/>    18,<br/>    10,<br/>    32,<br/>    32,<br/>    44,<br/>    57<br/>  ],<br/>  \"first_name\": [<br/>    \"Michele\",<br/>    \"Hailey\",<br/>    \"Suzanne\",<br/>    \"Alejandra\",<br/>    \"Cynthia\",<br/>    \"Nicole\",<br/>    \"Ronald\",<br/>    \"Raymond\",<br/>    \"Logan\",<br/>    \"Melinda\"<br/>  ]<br/>}</pre>\n",
       "        </html>"
      ],
      "text/plain": [
       "{'age': [48, 27, 91, 58, 18, 10, 32, 32, 44, 57], 'first_name': ['Michele', 'Hailey', 'Suzanne', 'Alejandra', 'Cynthia', 'Nicole', 'Ronald', 'Raymond', 'Logan', 'Melinda']}"
      ]
     },
     "execution_count": 7,
     "metadata": {},
     "output_type": "execute_result"
    }
   ],
   "source": [
    "# Transpose the data into a dict of lists (items are elementally equivalent to the original)\n",
    "unique.T"
   ]
  }
 ],
 "metadata": {
  "kernelspec": {
   "display_name": "py311",
   "language": "python",
   "name": "python3"
  },
  "language_info": {
   "codemirror_mode": {
    "name": "ipython",
    "version": 3
   },
   "file_extension": ".py",
   "mimetype": "text/x-python",
   "name": "python",
   "nbconvert_exporter": "python",
   "pygments_lexer": "ipython3",
   "version": "3.11.0"
  },
  "orig_nbformat": 4,
  "vscode": {
   "interpreter": {
    "hash": "c57b7d55d405a9b85b40bb076a360058c8af6a46a7e88e86833727a38150c9fa"
   }
  }
 },
 "nbformat": 4,
 "nbformat_minor": 2
}
