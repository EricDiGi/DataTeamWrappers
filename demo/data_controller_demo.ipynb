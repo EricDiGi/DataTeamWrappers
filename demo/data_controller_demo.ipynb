{
 "cells": [
  {
   "cell_type": "code",
   "execution_count": 8,
   "metadata": {},
   "outputs": [],
   "source": [
    "# Import the data_controller module from its folder\n",
    "import sys\n",
    "sys.path.append(\"../\")\n",
    "from data_controller import Collection, Object, field, condition"
   ]
  },
  {
   "cell_type": "code",
   "execution_count": 9,
   "metadata": {},
   "outputs": [],
   "source": [
    "# Import Faker to create fake data\n",
    "from faker import Faker\n",
    "fake = Faker()\n",
    "\n",
    "# Generate 1 fake user\n",
    "def generate_one_user():\n",
    "    return {\n",
    "        \"email\": fake.email(),\n",
    "        \"first_name\": fake.first_name(),\n",
    "        \"last_name\": fake.last_name(),\n",
    "        \"phone_number\": fake.phone_number(),\n",
    "        \"age\": fake.pyint(min_value=8, max_value=100)\n",
    "    }\n",
    "\n",
    "# Generate a list of fake users with N users\n",
    "def generate_many_users(n):\n",
    "    users = []\n",
    "    for i in range(n):\n",
    "        users.append(generate_one_user())\n",
    "    return users"
   ]
  },
  {
   "cell_type": "code",
   "execution_count": 10,
   "metadata": {},
   "outputs": [
    {
     "name": "stdout",
     "output_type": "stream",
     "text": [
      "Columns :  ['phone_number', 'first_name', 'last_name', 'email', 'age']\n"
     ]
    },
    {
     "data": {
      "text/html": [
       "<html><table><thead><tr><th>ROW</th><th>phone_number</th><th>first_name</th><th>last_name</th><th>email</th><th>age</th></tr></thead><tr><td>0</td><td class=light>001-431-872-0981</td><td class=dark>Billy</td><td class=light>Delacruz</td><td class=dark>aprilsmith@example.net</td><td class=light>82</td></tr><tr><td>1</td><td class=light>(448)847-7418</td><td class=dark>Nicholas</td><td class=light>Reyes</td><td class=dark>gonzalezmonica@example.net</td><td class=light>58</td></tr><tr><td>2</td><td class=light>634.028.3137x95657</td><td class=dark>Matthew</td><td class=light>Ramirez</td><td class=dark>walkeralicia@example.org</td><td class=light>81</td></tr><tr><td>3</td><td class=light>+1-095-021-8667x72553</td><td class=dark>Lauren</td><td class=light>Suarez</td><td class=dark>kvincent@example.org</td><td class=light>59</td></tr><tr><td>4</td><td class=light>(137)934-4266</td><td class=dark>William</td><td class=light>Woodard</td><td class=dark>ichandler@example.net</td><td class=light>57</td></tr><tr><td>5</td><td class=light>001-601-487-7399x04103</td><td class=dark>Monica</td><td class=light>Anderson</td><td class=dark>ostevens@example.com</td><td class=light>91</td></tr><tr><td>6</td><td class=light>+1-700-964-4523x3697</td><td class=dark>Dustin</td><td class=light>Sanchez</td><td class=dark>courtneysmith@example.net</td><td class=light>47</td></tr><tr><td>7</td><td class=light>(712)852-3453</td><td class=dark>Jeremy</td><td class=light>Perez</td><td class=dark>hoganerin@example.org</td><td class=light>82</td></tr></table></html>"
      ],
      "text/plain": [
       "[{'email': 'aprilsmith@example.net', 'first_name': 'Billy', 'last_name': 'Delacruz', 'phone_number': '001-431-872-0981', 'age': 82}, {'email': 'gonzalezmonica@example.net', 'first_name': 'Nicholas', 'last_name': 'Reyes', 'phone_number': '(448)847-7418', 'age': 58}, {'email': 'walkeralicia@example.org', 'first_name': 'Matthew', 'last_name': 'Ramirez', 'phone_number': '634.028.3137x95657', 'age': 81}, {'email': 'kvincent@example.org', 'first_name': 'Lauren', 'last_name': 'Suarez', 'phone_number': '+1-095-021-8667x72553', 'age': 59}, {'email': 'ichandler@example.net', 'first_name': 'William', 'last_name': 'Woodard', 'phone_number': '(137)934-4266', 'age': 57}, {'email': 'ostevens@example.com', 'first_name': 'Monica', 'last_name': 'Anderson', 'phone_number': '001-601-487-7399x04103', 'age': 91}, {'email': 'courtneysmith@example.net', 'first_name': 'Dustin', 'last_name': 'Sanchez', 'phone_number': '+1-700-964-4523x3697', 'age': 47}, {'email': 'hoganerin@example.org', 'first_name': 'Jeremy', 'last_name': 'Perez', 'phone_number': '(712)852-3453', 'age': 82}]"
      ]
     },
     "execution_count": 10,
     "metadata": {},
     "output_type": "execute_result"
    }
   ],
   "source": [
    "user_collection = Collection(generate_many_users(1000))\n",
    "print(\"Columns : \",user_collection.columns)\n",
    "\n",
    "user_collection[12:20] #Slice a collection"
   ]
  },
  {
   "cell_type": "code",
   "execution_count": 11,
   "metadata": {},
   "outputs": [
    {
     "name": "stdout",
     "output_type": "stream",
     "text": [
      "SELECT ROW 5:\n"
     ]
    },
    {
     "data": {
      "text/html": [
       "<html>\n",
       "        <script src=\"https://cdn.jsdelivr.net/gh/google/code-prettify@master/loader/run_prettify.js?lang=json&amp;skin=sons-of-obsidian\"></script>\n",
       "            <pre class=\"prettyprint linenums\">{<br/>  \"email\": \"charlescarrillo@example.net\",<br/>  \"first_name\": \"Charles\",<br/>  \"last_name\": \"Wang\",<br/>  \"phone_number\": \"228.475.5208\",<br/>  \"age\": 76<br/>}</pre>\n",
       "        </html>"
      ],
      "text/plain": [
       "{'email': 'charlescarrillo@example.net', 'first_name': 'Charles', 'last_name': 'Wang', 'phone_number': '228.475.5208', 'age': 76}"
      ]
     },
     "metadata": {},
     "output_type": "display_data"
    },
    {
     "name": "stdout",
     "output_type": "stream",
     "text": [
      "SELECT FIELD \"last_name\" FROM ROW 5:\n"
     ]
    },
    {
     "data": {
      "text/html": [
       "<html>\n",
       "        <script src=\"https://cdn.jsdelivr.net/gh/google/code-prettify@master/loader/run_prettify.js?lang=json&amp;skin=sons-of-obsidian\"></script>\n",
       "            <pre class=\"prettyprint linenums\">{<br/>  \"last_name\": \"Wang\"<br/>}</pre>\n",
       "        </html>"
      ],
      "text/plain": [
       "{'last_name': 'Wang'}"
      ]
     },
     "metadata": {},
     "output_type": "display_data"
    },
    {
     "name": "stdout",
     "output_type": "stream",
     "text": [
      "\n",
      "Trim fields and slice the dataset"
     ]
    },
    {
     "data": {
      "text/html": [
       "<html><table><thead><tr><th>ROW</th><th>last_name</th><th>first_name</th></tr></thead><tr><td>0</td><td class=light>Spencer</td><td class=dark>Teresa</td></tr><tr><td>1</td><td class=light>Jones</td><td class=dark>Michael</td></tr><tr><td>2</td><td class=light>Guzman</td><td class=dark>Sara</td></tr><tr><td>3</td><td class=light>Holt</td><td class=dark>Vanessa</td></tr><tr><td>4</td><td class=light>Hamilton</td><td class=dark>Christy</td></tr></table></html>"
      ],
      "text/plain": [
       "[{'first_name': 'Teresa', 'last_name': 'Spencer'}, {'first_name': 'Michael', 'last_name': 'Jones'}, {'first_name': 'Sara', 'last_name': 'Guzman'}, {'first_name': 'Vanessa', 'last_name': 'Holt'}, {'first_name': 'Christy', 'last_name': 'Hamilton'}]"
      ]
     },
     "metadata": {},
     "output_type": "display_data"
    }
   ],
   "source": [
    "from IPython.display import display\n",
    "print(\"SELECT ROW 5:\")\n",
    "display(user_collection[5]) # Select row from the collection\n",
    "\n",
    "print(\"SELECT FIELD \\\"last_name\\\" FROM ROW 5:\")\n",
    "display(user_collection[5][['last_name']]) # Get last_name from the selected row\n",
    "\n",
    "print(\"\\nTrim fields and slice the dataset\", end=\"\")\n",
    "display(user_collection[0:5][['first_name', 'last_name']]) # Select specific fields from rows 0 through 5"
   ]
  },
  {
   "cell_type": "code",
   "execution_count": 12,
   "metadata": {},
   "outputs": [
    {
     "data": {
      "text/html": [
       "<html><table><thead><tr><th>ROW</th><th>phone_number</th><th>first_name</th><th>last_name</th><th>email</th><th>age</th></tr></thead><tr><td>0</td><td class=light>634.028.3137x95657</td><td class=dark>Matthew</td><td class=light>Ramirez</td><td class=dark>walkeralicia@example.org</td><td class=light>81</td></tr><tr><td>1</td><td class=light>001-601-487-7399x04103</td><td class=dark>Monica</td><td class=light>Anderson</td><td class=dark>ostevens@example.com</td><td class=light>91</td></tr><tr><td>2</td><td class=light>681-148-3149x59123</td><td class=dark>Mary</td><td class=light>Barker</td><td class=dark>rodney83@example.net</td><td class=light>84</td></tr><tr><td>3</td><td class=light>001-431-752-0508x624</td><td class=dark>Michelle</td><td class=light>Casey</td><td class=dark>efox@example.net</td><td class=light>82</td></tr><tr><td>4</td><td class=light>412-131-2028x937</td><td class=dark>Matthew</td><td class=light>Griffin</td><td class=dark>jenniferknight@example.net</td><td class=light>83</td></tr></table></html>"
      ],
      "text/plain": [
       "[{'email': 'walkeralicia@example.org', 'first_name': 'Matthew', 'last_name': 'Ramirez', 'phone_number': '634.028.3137x95657', 'age': 81}, {'email': 'ostevens@example.com', 'first_name': 'Monica', 'last_name': 'Anderson', 'phone_number': '001-601-487-7399x04103', 'age': 91}, {'email': 'rodney83@example.net', 'first_name': 'Mary', 'last_name': 'Barker', 'phone_number': '681-148-3149x59123', 'age': 84}, {'email': 'efox@example.net', 'first_name': 'Michelle', 'last_name': 'Casey', 'phone_number': '001-431-752-0508x624', 'age': 82}, {'email': 'jenniferknight@example.net', 'first_name': 'Matthew', 'last_name': 'Griffin', 'phone_number': '412-131-2028x937', 'age': 83}]"
      ]
     },
     "execution_count": 12,
     "metadata": {},
     "output_type": "execute_result"
    }
   ],
   "source": [
    "import re\n",
    "# Find first 5 rows where Age > 40 and first name starts with 'M'\n",
    "user_collection.where(\n",
    "    field('age') > 80,  # easy way to state simple conditionals\n",
    "    # For more complex conditionals use...\n",
    "    condition('first_name','regex_match',(r'^m.*',re.IGNORECASE))   \n",
    ")[0:5]"
   ]
  },
  {
   "cell_type": "code",
   "execution_count": 13,
   "metadata": {},
   "outputs": [
    {
     "data": {
      "text/html": [
       "<html><table><thead><tr><th>ROW</th><th>age</th><th>first_name</th></tr></thead><tr><td>0</td><td class=light>39</td><td class=dark>Brett</td></tr><tr><td>1</td><td class=light>77</td><td class=dark>Michael</td></tr><tr><td>2</td><td class=light>76</td><td class=dark>Charles</td></tr><tr><td>3</td><td class=light>88</td><td class=dark>Sara</td></tr><tr><td>4</td><td class=light>73</td><td class=dark>Christy</td></tr><tr><td>5</td><td class=light>62</td><td class=dark>Vanessa</td></tr><tr><td>6</td><td class=light>73</td><td class=dark>Thomas</td></tr><tr><td>7</td><td class=light>43</td><td class=dark>Heidi</td></tr><tr><td>8</td><td class=light>35</td><td class=dark>Teresa</td></tr><tr><td>9</td><td class=light>32</td><td class=dark>Rodney</td></tr></table></html>"
      ],
      "text/plain": [
       "[{'age': 39, 'first_name': 'Brett'}, {'age': 77, 'first_name': 'Michael'}, {'age': 76, 'first_name': 'Charles'}, {'age': 88, 'first_name': 'Sara'}, {'age': 73, 'first_name': 'Christy'}, {'age': 62, 'first_name': 'Vanessa'}, {'age': 73, 'first_name': 'Thomas'}, {'age': 43, 'first_name': 'Heidi'}, {'age': 35, 'first_name': 'Teresa'}, {'age': 32, 'first_name': 'Rodney'}]"
      ]
     },
     "execution_count": 13,
     "metadata": {},
     "output_type": "execute_result"
    }
   ],
   "source": [
    "# Getting Unique Values\n",
    "temp = user_collection[0:10] + [user_collection[0]] # Concatenate object to Collection or collection to collection\n",
    "unique = temp.unique('age','first_name') # Length should be <= 10\n",
    "unique"
   ]
  },
  {
   "cell_type": "code",
   "execution_count": 14,
   "metadata": {},
   "outputs": [
    {
     "data": {
      "text/html": [
       "<html>\n",
       "        <script src=\"https://cdn.jsdelivr.net/gh/google/code-prettify@master/loader/run_prettify.js?lang=json&amp;skin=sons-of-obsidian\"></script>\n",
       "            <pre class=\"prettyprint linenums\">{<br/>  \"age\": [<br/>    39,<br/>    77,<br/>    76,<br/>    88,<br/>    73,<br/>    62,<br/>    73,<br/>    43,<br/>    35,<br/>    32<br/>  ],<br/>  \"first_name\": [<br/>    \"Brett\",<br/>    \"Michael\",<br/>    \"Charles\",<br/>    \"Sara\",<br/>    \"Christy\",<br/>    \"Vanessa\",<br/>    \"Thomas\",<br/>    \"Heidi\",<br/>    \"Teresa\",<br/>    \"Rodney\"<br/>  ]<br/>}</pre>\n",
       "        </html>"
      ],
      "text/plain": [
       "{'age': [39, 77, 76, 88, 73, 62, 73, 43, 35, 32], 'first_name': ['Brett', 'Michael', 'Charles', 'Sara', 'Christy', 'Vanessa', 'Thomas', 'Heidi', 'Teresa', 'Rodney']}"
      ]
     },
     "execution_count": 14,
     "metadata": {},
     "output_type": "execute_result"
    }
   ],
   "source": [
    "# Transpose the data into a dict of lists (items are elementally equivalent to the original)\n",
    "unique.T"
   ]
  }
 ],
 "metadata": {
  "kernelspec": {
   "display_name": "py311",
   "language": "python",
   "name": "python3"
  },
  "language_info": {
   "codemirror_mode": {
    "name": "ipython",
    "version": 3
   },
   "file_extension": ".py",
   "mimetype": "text/x-python",
   "name": "python",
   "nbconvert_exporter": "python",
   "pygments_lexer": "ipython3",
   "version": "3.11.0"
  },
  "orig_nbformat": 4,
  "vscode": {
   "interpreter": {
    "hash": "c57b7d55d405a9b85b40bb076a360058c8af6a46a7e88e86833727a38150c9fa"
   }
  }
 },
 "nbformat": 4,
 "nbformat_minor": 2
}
