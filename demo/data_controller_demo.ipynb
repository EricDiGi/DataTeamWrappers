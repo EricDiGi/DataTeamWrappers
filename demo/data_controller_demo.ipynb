{
 "cells": [
  {
   "cell_type": "code",
   "execution_count": 1,
   "metadata": {},
   "outputs": [],
   "source": [
    "# Import the data_controller module from its folder\n",
    "import sys\n",
    "sys.path.append(\"../\")\n",
    "from data_controller import Collection, Object, field, condition"
   ]
  },
  {
   "cell_type": "code",
   "execution_count": 2,
   "metadata": {},
   "outputs": [
    {
     "data": {
      "text/plain": [
       "[{'email': 'christopherschneider@example.com',\n",
       "  'first_name': 'Rebekah',\n",
       "  'last_name': 'Garcia',\n",
       "  'phone_number': '001-687-616-1612x70584',\n",
       "  'age': 47},\n",
       " {'email': 'jeffreytaylor@example.net',\n",
       "  'first_name': 'Alexandra',\n",
       "  'last_name': 'Kelly',\n",
       "  'phone_number': '007-160-8200x826',\n",
       "  'age': 74},\n",
       " {'email': 'heather22@example.org',\n",
       "  'first_name': 'Ashley',\n",
       "  'last_name': 'Frazier',\n",
       "  'phone_number': '499.260.7414x688',\n",
       "  'age': 23}]"
      ]
     },
     "execution_count": 2,
     "metadata": {},
     "output_type": "execute_result"
    }
   ],
   "source": [
    "# Import Faker to create fake data\n",
    "from faker import Faker\n",
    "fake = Faker()\n",
    "\n",
    "# Generate 1 fake user\n",
    "def generate_one_user():\n",
    "    return {\n",
    "        \"email\": fake.email(),\n",
    "        \"first_name\": fake.first_name(),\n",
    "        \"last_name\": fake.last_name(),\n",
    "        \"phone_number\": fake.phone_number(),\n",
    "        \"age\": fake.pyint(min_value=8, max_value=100)\n",
    "    }\n",
    "\n",
    "# Generate a list of fake users with N users\n",
    "def generate_many_users(n):\n",
    "    users = []\n",
    "    for i in range(n):\n",
    "        users.append(generate_one_user())\n",
    "    return users\n",
    "\n",
    "generate_many_users(3)"
   ]
  },
  {
   "cell_type": "code",
   "execution_count": 3,
   "metadata": {},
   "outputs": [
    {
     "data": {
      "text/plain": [
       "[{'email': 'williamgibson@example.org', 'first_name': 'Jose', 'last_name': 'Kelly', 'phone_number': '724-524-6460', 'age': 18}, {'email': 'srivas@example.com', 'first_name': 'Jason', 'last_name': 'Mcneil', 'phone_number': '001-973-429-6299x007', 'age': 23}, {'email': 'zwilkerson@example.org', 'first_name': 'Kenneth', 'last_name': 'Daniels', 'phone_number': '404-890-8037', 'age': 34}]"
      ]
     },
     "execution_count": 3,
     "metadata": {},
     "output_type": "execute_result"
    }
   ],
   "source": [
    "user_collection = Collection(generate_many_users(1000))\n",
    "user_collection[0:3] #Slice a collection"
   ]
  },
  {
   "cell_type": "code",
   "execution_count": 4,
   "metadata": {},
   "outputs": [
    {
     "name": "stdout",
     "output_type": "stream",
     "text": [
      "SELECT ROW 5:\n",
      " {'email': 'hwalters@example.org', 'first_name': 'Mitchell', 'last_name': 'Wagner', 'phone_number': '001-866-682-6003', 'age': 11}\n",
      "\n",
      "SELECT FIELD \"last_name\" FROM ROW 5:\n",
      " {'last_name': 'Wagner'}\n",
      "Trim fields and slice the dataset\n"
     ]
    },
    {
     "data": {
      "text/plain": [
       "[{'first_name': 'Jose', 'last_name': 'Kelly'},\n",
       " {'first_name': 'Jason', 'last_name': 'Mcneil'},\n",
       " {'first_name': 'Kenneth', 'last_name': 'Daniels'},\n",
       " {'first_name': 'Noah', 'last_name': 'Singh'},\n",
       " {'first_name': 'Brittany', 'last_name': 'Huff'}]"
      ]
     },
     "execution_count": 4,
     "metadata": {},
     "output_type": "execute_result"
    }
   ],
   "source": [
    "print(\n",
    "    \"SELECT ROW 5:\\n\",\n",
    "    user_collection[5], # Select row from the collection\n",
    "    end=\"\\n\"\n",
    ") \n",
    "print()\n",
    "print(\n",
    "    \"SELECT FIELD \\\"last_name\\\" FROM ROW 5:\\n\",\n",
    "    user_collection[5][['last_name']],  # Get last_name from the selected row\n",
    "    end=\"\\n\" \n",
    ")\n",
    "\n",
    "print(\"Trim fields and slice the dataset\")\n",
    "user_collection[0:5][['first_name', 'last_name']] # Select specific fields from rows 0 through 5"
   ]
  },
  {
   "cell_type": "code",
   "execution_count": 9,
   "metadata": {},
   "outputs": [
    {
     "data": {
      "text/plain": [
       "[{'email': 'rfoster@example.com', 'first_name': 'Melissa', 'last_name': 'Reyes', 'phone_number': '599.182.1424x47186', 'age': 85}, {'email': 'david19@example.com', 'first_name': 'Martin', 'last_name': 'Velasquez', 'phone_number': '053-776-6948x77348', 'age': 90}, {'email': 'juliagates@example.com', 'first_name': 'Mary', 'last_name': 'Lewis', 'phone_number': '(000)125-1244', 'age': 88}, {'email': 'stephen06@example.com', 'first_name': 'Margaret', 'last_name': 'Brooks', 'phone_number': '056-154-8433x8938', 'age': 93}, {'email': 'fcollier@example.com', 'first_name': 'Michael', 'last_name': 'Butler', 'phone_number': '001-846-091-5796x430', 'age': 87}, {'email': 'tthompson@example.com', 'first_name': 'Madeline', 'last_name': 'Beasley', 'phone_number': '001-992-825-9412', 'age': 98}, {'email': 'nataliegibson@example.net', 'first_name': 'Michael', 'last_name': 'Wilkinson', 'phone_number': '(447)109-6294', 'age': 93}, {'email': 'freemanseth@example.net', 'first_name': 'Matthew', 'last_name': 'Cole', 'phone_number': '936-539-6316x5672', 'age': 85}, {'email': 'emilyolsen@example.net', 'first_name': 'Michelle', 'last_name': 'Morales', 'phone_number': '(123)403-2780x99103', 'age': 92}, {'email': 'mcfarlandkelly@example.com', 'first_name': 'Madison', 'last_name': 'Curtis', 'phone_number': '(494)694-8486', 'age': 88}, {'email': 'reedjeffrey@example.com', 'first_name': 'Michael', 'last_name': 'Johnson', 'phone_number': '402-517-6078', 'age': 93}, {'email': 'madelinebrown@example.net', 'first_name': 'Mark', 'last_name': 'Smith', 'phone_number': '(625)626-5523', 'age': 100}, {'email': 'ltorres@example.net', 'first_name': 'Matthew', 'last_name': 'Smith', 'phone_number': '+1-607-230-2926x39834', 'age': 94}, {'email': 'walter53@example.org', 'first_name': 'Michael', 'last_name': 'Smith', 'phone_number': '+1-070-166-2156', 'age': 83}, {'email': 'ruth27@example.org', 'first_name': 'Mercedes', 'last_name': 'Walker', 'phone_number': '673-319-5894x465', 'age': 82}, {'email': 'michelle38@example.com', 'first_name': 'Michelle', 'last_name': 'Flores', 'phone_number': '001-483-534-7943x6781', 'age': 84}, {'email': 'schroederruth@example.com', 'first_name': 'Mike', 'last_name': 'Wells', 'phone_number': '902.706.7762x0898', 'age': 91}, {'email': 'cantrelljoshua@example.com', 'first_name': 'Margaret', 'last_name': 'Lynch', 'phone_number': '001-772-306-0161', 'age': 91}]"
      ]
     },
     "execution_count": 9,
     "metadata": {},
     "output_type": "execute_result"
    }
   ],
   "source": [
    "import re\n",
    "# Find all rows where Age > 40 and first name starts with 'M'\n",
    "user_collection.where(\n",
    "    field('age') > 80,  # easy way to state simple conditionals\n",
    "    # For more complex conditionals use...\n",
    "    condition('first_name','regex_match',(r'^m.*',re.IGNORECASE))   \n",
    ")"
   ]
  },
  {
   "cell_type": "code",
   "execution_count": 6,
   "metadata": {},
   "outputs": [
    {
     "data": {
      "text/plain": [
       "False"
      ]
     },
     "execution_count": 6,
     "metadata": {},
     "output_type": "execute_result"
    }
   ],
   "source": [
    "bool(re.match(\"^m.*\",\"Gary\", re.IGNORECASE))"
   ]
  }
 ],
 "metadata": {
  "kernelspec": {
   "display_name": "py311",
   "language": "python",
   "name": "python3"
  },
  "language_info": {
   "codemirror_mode": {
    "name": "ipython",
    "version": 3
   },
   "file_extension": ".py",
   "mimetype": "text/x-python",
   "name": "python",
   "nbconvert_exporter": "python",
   "pygments_lexer": "ipython3",
   "version": "3.11.0"
  },
  "orig_nbformat": 4,
  "vscode": {
   "interpreter": {
    "hash": "c57b7d55d405a9b85b40bb076a360058c8af6a46a7e88e86833727a38150c9fa"
   }
  }
 },
 "nbformat": 4,
 "nbformat_minor": 2
}
