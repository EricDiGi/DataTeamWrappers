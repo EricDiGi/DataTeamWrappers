{
 "cells": [
  {
   "cell_type": "code",
   "execution_count": 3,
   "metadata": {},
   "outputs": [
    {
     "data": {
      "text/plain": [
       "10"
      ]
     },
     "execution_count": 3,
     "metadata": {},
     "output_type": "execute_result"
    }
   ],
   "source": [
    "import os, sys\n",
    "sys.path.append(\"../../\")\n",
    "import envy\n",
    "\n",
    "# >>> profile.env <<<\n",
    "# NAME=Bob\n",
    "# AGE=30\n",
    "# CAR=Ford\n",
    "# HOME=Apartment"
   ]
  },
  {
   "cell_type": "code",
   "execution_count": null,
   "metadata": {},
   "outputs": [],
   "source": [
    "# Find All Env Files\n",
    "env_files = envy.find(ext=\".env\")\n",
    "\n",
    "# A demonstration of the snake_case function.\n",
    "print([\n",
    "    envy.snake_case(\"this_is_snake_case\"),\n",
    "    envy.snake_case(\"This-is Not snake_case\"),\n",
    "    envy.snake_case(\"last but not least\"),\n",
    "    envy.snake_case(\"ItAlsoHandlesCamelCase\")\n",
    "])\n",
    "\n",
    "envy.json(\"profile.json\", default=False) # loads json file to os env\n",
    "envy.json(\"profile.json\") # loads json file as json object\n",
    "\n",
    "envy.env(\"profile.env\", default=False) # loads env file to json dict\n",
    "envy.env(\"profile.env\") # loads env file to os environ\n",
    "\n",
    "envy.arbiter(\"profile.env\",default=False,flags=[envy.SNAKE_CASE]) # loads a .env file into a json object with snake_case keys\n",
    "envy.arbiter(\"profile.env\") # loads a .env file into the os environ\n",
    "envy.arbiter(\"profile.json\",flags=[envy.SNAKE_CASE]) # loads a .json file into a json object with snake_case keys\n",
    "envy.arbiter(\"profile.json\") # loads a .json file into a json object with original keys\n",
    "envy.arbiter(\"profile.json\", default=False) # loads a .json file into the os environ\n",
    "\n",
    "envy.is_json(\"profile.json\") # returns true if the file exists and is a json file\n",
    "envy.is_env(\"profile.env\") # returns true if the file exists and is an env file"
   ]
  },
  {
   "cell_type": "code",
   "execution_count": 2,
   "metadata": {},
   "outputs": [],
   "source": [
    "# EXAMPLE USE CASE:\n",
    "# Dynamically load profiles from JSON or ENV into a python dictionary with snake_case keys.\n",
    "def load_any_profile_as_json(profile_path):\n",
    "    return envy.arbiter(\n",
    "        path=profile_path,\n",
    "        default=envy.is_json(profile_path), \n",
    "        flags=[envy.SNAKE_CASE]\n",
    "    )\n",
    "# Dynamically load profiles from JSON or ENV into the os environment.\n",
    "def load_any_profile_as_env(profile_path):\n",
    "    return envy.arbiter(\n",
    "        path=profile_path,\n",
    "        default=envy.is_env(profile_path)\n",
    "    ) # returns None\n"
   ]
  }
 ],
 "metadata": {
  "kernelspec": {
   "display_name": "base",
   "language": "python",
   "name": "python3"
  },
  "language_info": {
   "codemirror_mode": {
    "name": "ipython",
    "version": 3
   },
   "file_extension": ".py",
   "mimetype": "text/x-python",
   "name": "python",
   "nbconvert_exporter": "python",
   "pygments_lexer": "ipython3",
   "version": "3.9.15"
  },
  "orig_nbformat": 4,
  "vscode": {
   "interpreter": {
    "hash": "6f217ba61d2eccaccad67c9e9333ad60c9b99d3a2bd2116cc72704051d87c202"
   }
  }
 },
 "nbformat": 4,
 "nbformat_minor": 2
}
