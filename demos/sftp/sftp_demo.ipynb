{
 "cells": [
  {
   "cell_type": "code",
   "execution_count": 1,
   "metadata": {},
   "outputs": [],
   "source": [
    "import sys\n",
    "sys.path.append('../../')\n",
    "\n",
    "from auto_sftp import SftpClient, plan_template\n",
    "from envy import env_to_dict"
   ]
  },
  {
   "cell_type": "code",
   "execution_count": 2,
   "metadata": {},
   "outputs": [],
   "source": [
    "PLAN = {\n",
    "    \"secrets\": env_to_dict('sftp.env',to_snake_case=True),\n",
    "    \"timeout\": 5000, # Default timeout is 1.2 seconds\n",
    "    \"files\": [ # List of files to download from SFTP server (path relative to account root)\n",
    "        {\"path\": \"./SomeFTP/Path/\", \"method\": \"copy_directory\"}, # All files in this directory (not recursive)\n",
    "        {\"path\": \"./SomeFTP/Path2/\", \"method\": \"deep_copy_directory\"}, # All files and directories in this directory (recursive)\n",
    "        {\"path\": \"./SomeFTP/Path3/sometext.txt\", \"method\": \"copy_file\"}, # Single file (not recursive)\n",
    "    ],\n",
    "    \"local_directory\": \"./TEST123\", # Will be created if it does not exist already (must be relative to operating directory)\n",
    "    \"maintain_file_structure\": True, # If set to True, the SFTP directory tree will be maintained in the local directory\n",
    "\n",
    "    \"preserve_mtime\": True,\n",
    "    \"logging\": {\n",
    "        \"verbose\":True,\n",
    "    }\n",
    "}"
   ]
  },
  {
   "cell_type": "code",
   "execution_count": null,
   "metadata": {},
   "outputs": [],
   "source": [
    "with SftpClient(PLAN) as client:\n",
    "    client.execute_plan()"
   ]
  }
 ],
 "metadata": {
  "kernelspec": {
   "display_name": "py311",
   "language": "python",
   "name": "python3"
  },
  "language_info": {
   "codemirror_mode": {
    "name": "ipython",
    "version": 3
   },
   "file_extension": ".py",
   "mimetype": "text/x-python",
   "name": "python",
   "nbconvert_exporter": "python",
   "pygments_lexer": "ipython3",
   "version": "3.11.0"
  },
  "orig_nbformat": 4,
  "vscode": {
   "interpreter": {
    "hash": "c57b7d55d405a9b85b40bb076a360058c8af6a46a7e88e86833727a38150c9fa"
   }
  }
 },
 "nbformat": 4,
 "nbformat_minor": 2
}
